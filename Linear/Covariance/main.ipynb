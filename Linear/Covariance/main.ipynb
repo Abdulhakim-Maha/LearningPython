{
 "cells": [
  {
   "cell_type": "code",
   "execution_count": 9,
   "metadata": {},
   "outputs": [],
   "source": [
    "import pandas as pd\n",
    "data_sets = pd.read_csv('GBvideos.csv',encoding='utf-8',usecols=['video_id','likes','dislikes'])"
   ]
  },
  {
   "cell_type": "code",
   "execution_count": 10,
   "metadata": {},
   "outputs": [],
   "source": [
    "lis = ['_JbpTEtGTz8','24-AhdoN_Nk','I6YQz96PYvw','lERhNXw6FaQ','mTf3Dcj5NPU','LmOPXhFensg','lERhNXw6FaQ','24-AhdoN_Nk',\n",
    "'HzILu6yyA20','Oa9c9JBBGxM','CE7SkcoyVAI','x1QroTKqG8c','3uGIEY7tdg8','ILDMJavIY-k','fAIX12F6958']"
   ]
  },
  {
   "cell_type": "code",
   "execution_count": 11,
   "metadata": {},
   "outputs": [
    {
     "data": {
      "text/html": [
       "<div>\n",
       "<style scoped>\n",
       "    .dataframe tbody tr th:only-of-type {\n",
       "        vertical-align: middle;\n",
       "    }\n",
       "\n",
       "    .dataframe tbody tr th {\n",
       "        vertical-align: top;\n",
       "    }\n",
       "\n",
       "    .dataframe thead th {\n",
       "        text-align: right;\n",
       "    }\n",
       "</style>\n",
       "<table border=\"1\" class=\"dataframe\">\n",
       "  <thead>\n",
       "    <tr style=\"text-align: right;\">\n",
       "      <th></th>\n",
       "      <th>video_id</th>\n",
       "      <th>likes</th>\n",
       "      <th>dislikes</th>\n",
       "    </tr>\n",
       "  </thead>\n",
       "  <tbody>\n",
       "    <tr>\n",
       "      <th>0</th>\n",
       "      <td>Jw1Y-zhQURU</td>\n",
       "      <td>55681</td>\n",
       "      <td>10247</td>\n",
       "    </tr>\n",
       "    <tr>\n",
       "      <th>1</th>\n",
       "      <td>3s1rvMFUweQ</td>\n",
       "      <td>25561</td>\n",
       "      <td>2294</td>\n",
       "    </tr>\n",
       "    <tr>\n",
       "      <th>2</th>\n",
       "      <td>n1WpP7iowLc</td>\n",
       "      <td>787420</td>\n",
       "      <td>43420</td>\n",
       "    </tr>\n",
       "    <tr>\n",
       "      <th>3</th>\n",
       "      <td>PUTEiSjKwJU</td>\n",
       "      <td>193</td>\n",
       "      <td>12</td>\n",
       "    </tr>\n",
       "    <tr>\n",
       "      <th>4</th>\n",
       "      <td>rHwDegptbI4</td>\n",
       "      <td>30</td>\n",
       "      <td>2</td>\n",
       "    </tr>\n",
       "    <tr>\n",
       "      <th>...</th>\n",
       "      <td>...</td>\n",
       "      <td>...</td>\n",
       "      <td>...</td>\n",
       "    </tr>\n",
       "    <tr>\n",
       "      <th>38911</th>\n",
       "      <td>l884wKofd54</td>\n",
       "      <td>268088</td>\n",
       "      <td>12783</td>\n",
       "    </tr>\n",
       "    <tr>\n",
       "      <th>38912</th>\n",
       "      <td>IP8k2xkhOdI</td>\n",
       "      <td>61998</td>\n",
       "      <td>13781</td>\n",
       "    </tr>\n",
       "    <tr>\n",
       "      <th>38913</th>\n",
       "      <td>Il-an3K9pjg</td>\n",
       "      <td>394830</td>\n",
       "      <td>8892</td>\n",
       "    </tr>\n",
       "    <tr>\n",
       "      <th>38914</th>\n",
       "      <td>-DRsfNObKIQ</td>\n",
       "      <td>151870</td>\n",
       "      <td>45875</td>\n",
       "    </tr>\n",
       "    <tr>\n",
       "      <th>38915</th>\n",
       "      <td>4YFo4bdMO8Q</td>\n",
       "      <td>18271</td>\n",
       "      <td>274</td>\n",
       "    </tr>\n",
       "  </tbody>\n",
       "</table>\n",
       "<p>38916 rows × 3 columns</p>\n",
       "</div>"
      ],
      "text/plain": [
       "          video_id   likes  dislikes\n",
       "0      Jw1Y-zhQURU   55681     10247\n",
       "1      3s1rvMFUweQ   25561      2294\n",
       "2      n1WpP7iowLc  787420     43420\n",
       "3      PUTEiSjKwJU     193        12\n",
       "4      rHwDegptbI4      30         2\n",
       "...            ...     ...       ...\n",
       "38911  l884wKofd54  268088     12783\n",
       "38912  IP8k2xkhOdI   61998     13781\n",
       "38913  Il-an3K9pjg  394830      8892\n",
       "38914  -DRsfNObKIQ  151870     45875\n",
       "38915  4YFo4bdMO8Q   18271       274\n",
       "\n",
       "[38916 rows x 3 columns]"
      ]
     },
     "execution_count": 11,
     "metadata": {},
     "output_type": "execute_result"
    }
   ],
   "source": [
    "data_sets"
   ]
  },
  {
   "cell_type": "code",
   "execution_count": 12,
   "metadata": {},
   "outputs": [],
   "source": [
    "\n",
    "filt = data_sets[data_sets['video_id'].isin(lis)]"
   ]
  },
  {
   "cell_type": "code",
   "execution_count": 13,
   "metadata": {},
   "outputs": [
    {
     "data": {
      "text/html": [
       "<div>\n",
       "<style scoped>\n",
       "    .dataframe tbody tr th:only-of-type {\n",
       "        vertical-align: middle;\n",
       "    }\n",
       "\n",
       "    .dataframe tbody tr th {\n",
       "        vertical-align: top;\n",
       "    }\n",
       "\n",
       "    .dataframe thead th {\n",
       "        text-align: right;\n",
       "    }\n",
       "</style>\n",
       "<table border=\"1\" class=\"dataframe\">\n",
       "  <thead>\n",
       "    <tr style=\"text-align: right;\">\n",
       "      <th></th>\n",
       "      <th>video_id</th>\n",
       "      <th>likes</th>\n",
       "      <th>dislikes</th>\n",
       "    </tr>\n",
       "  </thead>\n",
       "  <tbody>\n",
       "    <tr>\n",
       "      <th>8196</th>\n",
       "      <td>LmOPXhFensg</td>\n",
       "      <td>10971</td>\n",
       "      <td>125</td>\n",
       "    </tr>\n",
       "    <tr>\n",
       "      <th>8397</th>\n",
       "      <td>LmOPXhFensg</td>\n",
       "      <td>19336</td>\n",
       "      <td>280</td>\n",
       "    </tr>\n",
       "    <tr>\n",
       "      <th>8605</th>\n",
       "      <td>LmOPXhFensg</td>\n",
       "      <td>24480</td>\n",
       "      <td>374</td>\n",
       "    </tr>\n",
       "    <tr>\n",
       "      <th>8813</th>\n",
       "      <td>LmOPXhFensg</td>\n",
       "      <td>26630</td>\n",
       "      <td>422</td>\n",
       "    </tr>\n",
       "    <tr>\n",
       "      <th>9022</th>\n",
       "      <td>LmOPXhFensg</td>\n",
       "      <td>28927</td>\n",
       "      <td>460</td>\n",
       "    </tr>\n",
       "    <tr>\n",
       "      <th>...</th>\n",
       "      <td>...</td>\n",
       "      <td>...</td>\n",
       "      <td>...</td>\n",
       "    </tr>\n",
       "    <tr>\n",
       "      <th>38702</th>\n",
       "      <td>ILDMJavIY-k</td>\n",
       "      <td>3478</td>\n",
       "      <td>60</td>\n",
       "    </tr>\n",
       "    <tr>\n",
       "      <th>38814</th>\n",
       "      <td>fAIX12F6958</td>\n",
       "      <td>228670</td>\n",
       "      <td>16420</td>\n",
       "    </tr>\n",
       "    <tr>\n",
       "      <th>38820</th>\n",
       "      <td>3uGIEY7tdg8</td>\n",
       "      <td>15097</td>\n",
       "      <td>1393</td>\n",
       "    </tr>\n",
       "    <tr>\n",
       "      <th>38845</th>\n",
       "      <td>CE7SkcoyVAI</td>\n",
       "      <td>15467</td>\n",
       "      <td>4160</td>\n",
       "    </tr>\n",
       "    <tr>\n",
       "      <th>38870</th>\n",
       "      <td>ILDMJavIY-k</td>\n",
       "      <td>3529</td>\n",
       "      <td>61</td>\n",
       "    </tr>\n",
       "  </tbody>\n",
       "</table>\n",
       "<p>146 rows × 3 columns</p>\n",
       "</div>"
      ],
      "text/plain": [
       "          video_id   likes  dislikes\n",
       "8196   LmOPXhFensg   10971       125\n",
       "8397   LmOPXhFensg   19336       280\n",
       "8605   LmOPXhFensg   24480       374\n",
       "8813   LmOPXhFensg   26630       422\n",
       "9022   LmOPXhFensg   28927       460\n",
       "...            ...     ...       ...\n",
       "38702  ILDMJavIY-k    3478        60\n",
       "38814  fAIX12F6958  228670     16420\n",
       "38820  3uGIEY7tdg8   15097      1393\n",
       "38845  CE7SkcoyVAI   15467      4160\n",
       "38870  ILDMJavIY-k    3529        61\n",
       "\n",
       "[146 rows x 3 columns]"
      ]
     },
     "execution_count": 13,
     "metadata": {},
     "output_type": "execute_result"
    }
   ],
   "source": [
    "filt"
   ]
  },
  {
   "cell_type": "code",
   "execution_count": 14,
   "metadata": {},
   "outputs": [
    {
     "data": {
      "text/html": [
       "<div>\n",
       "<style scoped>\n",
       "    .dataframe tbody tr th:only-of-type {\n",
       "        vertical-align: middle;\n",
       "    }\n",
       "\n",
       "    .dataframe tbody tr th {\n",
       "        vertical-align: top;\n",
       "    }\n",
       "\n",
       "    .dataframe thead th {\n",
       "        text-align: right;\n",
       "    }\n",
       "</style>\n",
       "<table border=\"1\" class=\"dataframe\">\n",
       "  <thead>\n",
       "    <tr style=\"text-align: right;\">\n",
       "      <th></th>\n",
       "      <th>likes</th>\n",
       "      <th>dislikes</th>\n",
       "    </tr>\n",
       "  </thead>\n",
       "  <tbody>\n",
       "    <tr>\n",
       "      <th>likes</th>\n",
       "      <td>2.445096e+09</td>\n",
       "      <td>1.645183e+08</td>\n",
       "    </tr>\n",
       "    <tr>\n",
       "      <th>dislikes</th>\n",
       "      <td>1.645183e+08</td>\n",
       "      <td>1.299114e+07</td>\n",
       "    </tr>\n",
       "  </tbody>\n",
       "</table>\n",
       "</div>"
      ],
      "text/plain": [
       "                 likes      dislikes\n",
       "likes     2.445096e+09  1.645183e+08\n",
       "dislikes  1.645183e+08  1.299114e+07"
      ]
     },
     "execution_count": 14,
     "metadata": {},
     "output_type": "execute_result"
    }
   ],
   "source": [
    "filt.cov()"
   ]
  },
  {
   "cell_type": "code",
   "execution_count": 15,
   "metadata": {},
   "outputs": [],
   "source": [
    "co = filt.cov()"
   ]
  },
  {
   "cell_type": "code",
   "execution_count": 16,
   "metadata": {},
   "outputs": [
    {
     "name": "stdout",
     "output_type": "stream",
     "text": [
      "164518322.19475678\n"
     ]
    }
   ],
   "source": [
    "print(co['likes'][1])"
   ]
  }
 ],
 "metadata": {
  "interpreter": {
   "hash": "eceb7a8e593eecf964bee5cd24a0245b366a6d3412387e804a3878e990311275"
  },
  "kernelspec": {
   "display_name": "Python 3.9.2 64-bit",
   "language": "python",
   "name": "python3"
  },
  "language_info": {
   "codemirror_mode": {
    "name": "ipython",
    "version": 3
   },
   "file_extension": ".py",
   "mimetype": "text/x-python",
   "name": "python",
   "nbconvert_exporter": "python",
   "pygments_lexer": "ipython3",
   "version": "3.9.2"
  },
  "orig_nbformat": 4
 },
 "nbformat": 4,
 "nbformat_minor": 2
}
