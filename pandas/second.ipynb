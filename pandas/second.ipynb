{
 "cells": [
  {
   "cell_type": "code",
   "execution_count": 1,
   "source": [
    "# dataFrame\r\n",
    "import pandas as pd\r\n",
    "data = [10,18,19,20]\r\n",
    "cols = ['อายุ']"
   ],
   "outputs": [],
   "metadata": {}
  },
  {
   "cell_type": "code",
   "execution_count": 5,
   "source": [
    "data2 = [[\"keyboard\",'IT',3000],['noodle','Food',30],['book','education',150]]\r\n",
    "col = ['order','type','price']"
   ],
   "outputs": [],
   "metadata": {}
  },
  {
   "cell_type": "code",
   "execution_count": null,
   "source": [
    "fr = pd.DataFrame(data2,columns=col)\r\n",
    "fr"
   ],
   "outputs": [],
   "metadata": {}
  }
 ],
 "metadata": {
  "orig_nbformat": 4,
  "language_info": {
   "name": "python",
   "version": "3.9.2",
   "mimetype": "text/x-python",
   "codemirror_mode": {
    "name": "ipython",
    "version": 3
   },
   "pygments_lexer": "ipython3",
   "nbconvert_exporter": "python",
   "file_extension": ".py"
  },
  "kernelspec": {
   "name": "python3",
   "display_name": "Python 3.9.2 64-bit"
  },
  "interpreter": {
   "hash": "eceb7a8e593eecf964bee5cd24a0245b366a6d3412387e804a3878e990311275"
  }
 },
 "nbformat": 4,
 "nbformat_minor": 2
}